{
  "nbformat": 4,
  "nbformat_minor": 0,
  "metadata": {
    "colab": {
      "provenance": []
    },
    "kernelspec": {
      "name": "python3",
      "display_name": "Python 3"
    },
    "language_info": {
      "name": "python"
    }
  },
  "cells": [
    {
      "cell_type": "code",
      "execution_count": null,
      "metadata": {
        "id": "qcYVJLzzjdmM"
      },
      "outputs": [],
      "source": [
        "!pip install opencv-python ipywidgets matplotlib"
      ]
    },
    {
      "cell_type": "code",
      "source": [
        "import cv2\n",
        "import numpy as np\n",
        "import matplotlib.pyplot as plt\n",
        "from google.colab import files\n",
        "import ipywidgets as widgets\n",
        "from IPython.display import display, clear_output, Markdown\n"
      ],
      "metadata": {
        "id": "F7dI_mu2jmB7"
      },
      "execution_count": null,
      "outputs": []
    },
    {
      "cell_type": "code",
      "source": [
        "# Upload an image from your system\n",
        "uploaded = files.upload()\n",
        "image_path = list(uploaded.keys())[0]\n",
        "image = cv2.imread(image_path)\n"
      ],
      "metadata": {
        "id": "Wcjla6b0ks1C"
      },
      "execution_count": null,
      "outputs": []
    },
    {
      "cell_type": "code",
      "source": [
        "# Show original image\n",
        "image_rgb = cv2.cvtColor(image, cv2.COLOR_BGR2RGB)\n",
        "plt.imshow(image_rgb)\n",
        "plt.title(\"Original Image\")\n",
        "plt.axis('off')\n",
        "plt.show()\n"
      ],
      "metadata": {
        "id": "fQcRZVAxkvAh"
      },
      "execution_count": null,
      "outputs": []
    },
    {
      "cell_type": "code",
      "source": [
        "# Threshold sliders\n",
        "low_th = widgets.IntSlider(value=50, min=0, max=255, step=1, description='Low Threshold')\n",
        "high_th = widgets.IntSlider(value=150, min=0, max=255, step=1, description='High Threshold')\n",
        "\n",
        "# Color selector\n",
        "color_picker = widgets.Dropdown(\n",
        "    options={\n",
        "        'Blue': [255, 0, 0],\n",
        "        'Green': [0, 255, 0],\n",
        "        'Red': [0, 0, 255],\n",
        "        'Yellow': [0, 255, 255],\n",
        "        'Purple': [255, 0, 255],\n",
        "        'White': [255, 255, 255]\n",
        "    },\n",
        "    value=[255, 255, 255],\n",
        "    description='Edge Color'\n",
        ")\n",
        "\n",
        "# Button to apply changes\n",
        "button = widgets.Button(description=\"Run Detection\")\n"
      ],
      "metadata": {
        "id": "nM3UKsEskxjT"
      },
      "execution_count": null,
      "outputs": []
    },
    {
      "cell_type": "code",
      "source": [
        "def detect_shapes_and_edges(change):\n",
        "    clear_output(wait=True)\n",
        "    display(low_th, high_th, color_picker, button)\n",
        "\n",
        "    # Values from widgets\n",
        "    low = low_th.value\n",
        "    high = high_th.value\n",
        "    color = color_picker.value\n",
        "\n",
        "    original = image.copy()\n",
        "    gray = cv2.cvtColor(original, cv2.COLOR_BGR2GRAY)\n",
        "    blurred = cv2.GaussianBlur(gray, (5, 5), 0)\n",
        "    edges = cv2.Canny(blurred, low, high)\n",
        "\n",
        "    contours, _ = cv2.findContours(edges.copy(), cv2.RETR_EXTERNAL, cv2.CHAIN_APPROX_SIMPLE)\n",
        "\n",
        "    # Image 1: Detected shapes only in selected color (on black)\n",
        "    shape_only_image = np.zeros_like(original)\n",
        "\n",
        "    # Image 2: Green sketch on top of original image\n",
        "    green_overlay_image = original.copy()\n",
        "\n",
        "    for cnt in contours:\n",
        "        approx = cv2.approxPolyDP(cnt, 0.02 * cv2.arcLength(cnt, True), True)\n",
        "\n",
        "        # Draw filled shape only on shape_only_image\n",
        "        mask = np.zeros_like(gray)\n",
        "        cv2.drawContours(mask, [approx], -1, 255, -1)\n",
        "        shape_only_image[mask == 255] = color\n",
        "\n",
        "        # Add shape label\n",
        "        x, y = approx.ravel()[0], approx.ravel()[1]\n",
        "        if len(approx) == 3:\n",
        "            shape = \"Triangle\"\n",
        "        elif len(approx) == 4:\n",
        "            shape = \"Rectangle\"\n",
        "        elif len(approx) > 4:\n",
        "            shape = \"Circle\"\n",
        "        else:\n",
        "            shape = \"Unknown\"\n",
        "        cv2.putText(shape_only_image, shape, (x, y), cv2.FONT_HERSHEY_SIMPLEX, 0.5, color, 2)\n",
        "\n",
        "        # 🟩 Draw green outline on top of original image\n",
        "        cv2.drawContours(green_overlay_image, [approx], -1, (0, 255, 0), 2)\n",
        "\n",
        "    # Convert all images to RGB for matplotlib\n",
        "    rgb_original = cv2.cvtColor(original, cv2.COLOR_BGR2RGB)\n",
        "    rgb_shapes = cv2.cvtColor(shape_only_image, cv2.COLOR_BGR2RGB)\n",
        "    rgb_overlay = cv2.cvtColor(green_overlay_image, cv2.COLOR_BGR2RGB)\n",
        "\n",
        "    # Display side-by-side\n",
        "    plt.figure(figsize=(18, 6))\n",
        "\n",
        "    plt.subplot(1, 3, 1)\n",
        "    plt.imshow(rgb_original)\n",
        "    plt.title(\"Original Image\")\n",
        "    plt.axis('off')\n",
        "\n",
        "    plt.subplot(1, 3, 2)\n",
        "    plt.imshow(rgb_shapes)\n",
        "    plt.title(\"Detected Shapes Only (Color: Selected)\")\n",
        "    plt.axis('off')\n",
        "\n",
        "    plt.subplot(1, 3, 3)\n",
        "    plt.imshow(rgb_overlay)\n",
        "    plt.title(\"Green Outline Sketch on Original\")\n",
        "    plt.axis('off')\n",
        "\n",
        "    plt.tight_layout()\n",
        "    plt.show()\n",
        "\n",
        "    # Final summary\n",
        "    summary = f\"\"\"\n",
        "### Final Settings Summary\n",
        "**Low Threshold**: {low}\n",
        "**High Threshold**: {high}\n",
        "**Edge Color (Text & Fill)**: {list(color_picker.options.keys())[list(color_picker.options.values()).index(color)]}\n",
        "\"\"\"\n",
        "    display(Markdown(summary))\n"
      ],
      "metadata": {
        "id": "gRHamaHfkzs5"
      },
      "execution_count": null,
      "outputs": []
    },
    {
      "cell_type": "code",
      "source": [
        "# Link button click to function\n",
        "button.on_click(detect_shapes_and_edges)\n",
        "\n",
        "# Display the controls and run interface\n",
        "display(low_th, high_th, color_picker, button)\n"
      ],
      "metadata": {
        "id": "p1hxkwK4k2Rz"
      },
      "execution_count": null,
      "outputs": []
    }
  ]
}